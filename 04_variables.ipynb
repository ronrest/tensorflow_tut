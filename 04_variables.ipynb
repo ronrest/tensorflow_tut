{
 "cells": [
  {
   "cell_type": "markdown",
   "metadata": {},
   "source": [
    "04 - TENSORFLOW TUTORIAL - Variable Tensors\n",
    "============================================\n",
    "By Ronny Restrepo"
   ]
  },
  {
   "cell_type": "code",
   "execution_count": 1,
   "metadata": {
    "collapsed": true
   },
   "outputs": [],
   "source": [
    "# ==============================================================================\n",
    "#                                                                        IMPORTS\n",
    "# ==============================================================================\n",
    "from __future__ import print_function, division\n",
    "import tensorflow as tf\n",
    "import numpy as np"
   ]
  },
  {
   "cell_type": "markdown",
   "metadata": {},
   "source": [
    "<br>\n",
    "## Variable Tensors\n",
    "\n",
    "Variable tensors are used when we expect the values in the tensor to \n",
    "change. So when creating neural networks, this is what we would use \n",
    "for creating the parameters like the weights and biases, because these\n",
    "values will be updated as we train our model. \n",
    "\n",
    "Declaring them in the graph is just a matter of making use of the \n",
    "`tf.Variable()` function, eg: \n",
    "\n",
    "```python\n",
    "a = tf.Variable(tf.ones([2,3], dtype=tf.float32))\n",
    "```"
   ]
  }
 ],
 "metadata": {
  "kernelspec": {
   "display_name": "Python 2",
   "language": "python",
   "name": "python2"
  },
  "language_info": {
   "codemirror_mode": {
    "name": "ipython",
    "version": 2
   },
   "file_extension": ".py",
   "mimetype": "text/x-python",
   "name": "python",
   "nbconvert_exporter": "python",
   "pygments_lexer": "ipython2",
   "version": "2.7.6"
  }
 },
 "nbformat": 4,
 "nbformat_minor": 0
}
