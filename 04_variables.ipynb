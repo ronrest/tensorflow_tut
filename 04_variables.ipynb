{
 "cells": [
  {
   "cell_type": "markdown",
   "metadata": {},
   "source": [
    "04 - TENSORFLOW TUTORIAL - Variable Tensors\n",
    "============================================\n",
    "By Ronny Restrepo"
   ]
  },
  {
   "cell_type": "code",
   "execution_count": 1,
   "metadata": {
    "collapsed": true
   },
   "outputs": [],
   "source": [
    "# ==============================================================================\n",
    "#                                                                        IMPORTS\n",
    "# ==============================================================================\n",
    "from __future__ import print_function, division\n",
    "import tensorflow as tf\n",
    "import numpy as np"
   ]
  },
  {
   "cell_type": "markdown",
   "metadata": {},
   "source": [
    "<br>\n",
    "## Variable Tensors\n",
    "\n",
    "Variable tensors are used when we expect the values in the tensor to \n",
    "change. So when creating neural networks, this is what we would use \n",
    "for creating the parameters like the weights and biases, because these\n",
    "values will be updated as we train our model. \n",
    "\n",
    "Declaring them in the graph is just a matter of making use of the \n",
    "`tf.Variable()` function, eg: \n",
    "\n",
    "```python\n",
    "a = tf.Variable(tf.ones([2,3], dtype=tf.float32))\n",
    "```\n",
    "\n",
    "\n",
    "A quirky feature about them is that they behave a little differently \n",
    "to constant tensors when initialising them. When declaring a constant \n",
    "in a graph, the values are initialised automatically. And here it may \n",
    "look like we have also initialised the variable tensor as a 2 by 3 \n",
    "matrix populated with ones. However, tensorflow interprets this as \n",
    "something like \n",
    "*\"Hey!, we want to create a tensor, please make some room for it, \n",
    "and store how we would like to initialise it, but dont actually \n",
    "intialise it just yet\"* \n",
    "\n",
    "So if we run the following code, we get an error that says: \n",
    "\n",
    "    FailedPreconditionError: Attempting to use uninitialized value Variable\n",
    "\n",
    "Run it to see for yourself. "
   ]
  },
  {
   "cell_type": "code",
   "execution_count": null,
   "metadata": {
    "collapsed": false
   },
   "outputs": [],
   "source": [
    "# ==============================================================================\n",
    "#                                VARIABLE TENSOR WITHOUT EXPLICIT INITIALISATION\n",
    "# ==============================================================================\n",
    "# ------------------------------------------------\n",
    "#                                    Build a graph\n",
    "# ------------------------------------------------\n",
    "graph = tf.Graph()\n",
    "with graph.as_default():\n",
    "    a = tf.Variable(tf.ones([2,3], dtype=tf.float32))\n",
    "\n",
    "# ------------------------------------------------\n",
    "#              Create a session, and run the graph\n",
    "# ------------------------------------------------\n",
    "with tf.Session(graph=graph) as sess:\n",
    "    output_a = sess.run(a)\n",
    "    print(output_a)"
   ]
  },
  {
   "cell_type": "markdown",
   "metadata": {},
   "source": [
    "We can make use of the `initialize_all_variables().run()` function \n",
    "to initialise all of the variable tensors in a graph. "
   ]
  },
  {
   "cell_type": "code",
   "execution_count": 4,
   "metadata": {
    "collapsed": false
   },
   "outputs": [
    {
     "name": "stdout",
     "output_type": "stream",
     "text": [
      "[[ 1.  1.  1.]\n",
      " [ 1.  1.  1.]]\n"
     ]
    }
   ],
   "source": [
    "# ==============================================================================\n",
    "#                                   VARIABLE TENSOR WITH EXPLICIT INITIALISATION\n",
    "# ==============================================================================\n",
    "# ------------------------------------------------\n",
    "#                                    Build a graph\n",
    "# ------------------------------------------------\n",
    "graph = tf.Graph()\n",
    "with graph.as_default():\n",
    "    a = tf.Variable(tf.ones([2,3], dtype=tf.float32))\n",
    "\n",
    "# ------------------------------------------------\n",
    "#              Create a session, and run the graph\n",
    "# ------------------------------------------------\n",
    "with tf.Session(graph=graph) as sess:\n",
    "    tf.initialize_all_variables().run()\n",
    "    output_a = sess.run(a)\n",
    "    print(output_a)"
   ]
  },
  {
   "cell_type": "markdown",
   "metadata": {},
   "source": [
    "This time we get the output we were after, without any errors. \n",
    "\n",
    "\n"
   ]
  }
 ],
 "metadata": {
  "kernelspec": {
   "display_name": "Python 2",
   "language": "python",
   "name": "python2"
  },
  "language_info": {
   "codemirror_mode": {
    "name": "ipython",
    "version": 2
   },
   "file_extension": ".py",
   "mimetype": "text/x-python",
   "name": "python",
   "nbconvert_exporter": "python",
   "pygments_lexer": "ipython2",
   "version": "2.7.6"
  }
 },
 "nbformat": 4,
 "nbformat_minor": 0
}
