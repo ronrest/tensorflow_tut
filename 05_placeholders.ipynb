{
 "cells": [
  {
   "cell_type": "markdown",
   "metadata": {},
   "source": [
    "05 - TENSORFLOW TUTORIAL - Placeholders\n",
    "==========================================="
   ]
  },
  {
   "cell_type": "code",
   "execution_count": 1,
   "metadata": {
    "collapsed": true
   },
   "outputs": [],
   "source": [
    "# ==============================================================================\n",
    "#                                                                        IMPORTS\n",
    "# ==============================================================================\n",
    "from __future__ import print_function, division\n",
    "import tensorflow as tf\n",
    "import numpy as np"
   ]
  },
  {
   "cell_type": "markdown",
   "metadata": {},
   "source": [
    "Placeholders can be thought of as containers. They contain nothing on \n",
    "their own untill you fill them up. And just like containers, there are \n",
    "also restrictions about the shape and size of things you can put in it. \n",
    "\n",
    "Placeholders are useful when you have tensors whose values you want to \n",
    "control, and which you expect to be different on separate sessions. \n",
    "So for neural networks, you would want to use placeholders for the \n",
    "input vectors/matrices, since you will have a different of values for \n",
    "the training set, validation set, test set, and the inputs you use \n",
    "as your final product. \n"
   ]
  }
 ],
 "metadata": {
  "kernelspec": {
   "display_name": "Python 2",
   "language": "python",
   "name": "python2"
  },
  "language_info": {
   "codemirror_mode": {
    "name": "ipython",
    "version": 2
   },
   "file_extension": ".py",
   "mimetype": "text/x-python",
   "name": "python",
   "nbconvert_exporter": "python",
   "pygments_lexer": "ipython2",
   "version": "2.7.6"
  }
 },
 "nbformat": 4,
 "nbformat_minor": 0
}
