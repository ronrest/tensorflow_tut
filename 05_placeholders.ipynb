{
 "cells": [
  {
   "cell_type": "markdown",
   "metadata": {},
   "source": [
    "05 - TENSORFLOW TUTORIAL - Placeholders\n",
    "==========================================="
   ]
  },
  {
   "cell_type": "code",
   "execution_count": 1,
   "metadata": {
    "collapsed": true
   },
   "outputs": [],
   "source": [
    "# ==============================================================================\n",
    "#                                                                        IMPORTS\n",
    "# ==============================================================================\n",
    "from __future__ import print_function, division\n",
    "import tensorflow as tf\n",
    "import numpy as np"
   ]
  },
  {
   "cell_type": "markdown",
   "metadata": {},
   "source": [
    "Placeholders can be thought of as containers. They contain nothing on \n",
    "their own untill you fill them up. And just like containers, there are \n",
    "also restrictions about the shape and size of things you can put in it. \n",
    "\n",
    "Placeholders are useful when you have tensors whose values you want to \n",
    "control, and which you expect to be different on separate sessions. \n",
    "So for neural networks, you would want to use placeholders for the \n",
    "input vectors/matrices, since you will have a different of values for \n",
    "the training set, validation set, test set, and the inputs you use \n",
    "as your final product. \n"
   ]
  },
  {
   "cell_type": "markdown",
   "metadata": {},
   "source": [
    "## Declaring a placeholder \n",
    "\n",
    "Declaring a placeholder is just a matter of placing a line like \n",
    "the following when creating a graph. \n",
    "\n",
    "```python\n",
    "tf.placeholder(tf.float32, shape=[3,4])\n",
    "```\n",
    "\n",
    "Here we declared that we want a tensor that is 3 by 4 in size \n",
    "and composed of elements that are or can be converted to 32 \n",
    "bit floats. \n",
    "\n",
    "## Feed me! I'm hungry\n",
    "\n",
    "A very important feature about placeholders is that they require \n",
    "feeding. We need to feed them some value everytime we start a new \n",
    "session. If we try to run through a graph, without feeding values \n",
    "to placeholders, then we get an error message such as:\n",
    "\n",
    "    InvalidArgumentError: You must feed a value for placeholder tensor 'Placeholder' with dtype float and shape dim { size: 3 } dim { size: 4 }\n",
    "\n",
    "See for yourself, run the following code:"
   ]
  },
  {
   "cell_type": "code",
   "execution_count": null,
   "metadata": {
    "collapsed": false
   },
   "outputs": [],
   "source": [
    "# ------------------------------------------------\n",
    "#                                    Build a graph\n",
    "# ------------------------------------------------\n",
    "graph = tf.Graph()\n",
    "with graph.as_default():\n",
    "    a = tf.placeholder(tf.float32, shape=(3, 4))\n",
    "    b = a * 2\n",
    "    \n",
    "# ------------------------------------------------\n",
    "#              Create a session, and run the graph\n",
    "# ------------------------------------------------\n",
    "with tf.Session(graph=graph) as session:\n",
    "    # run, but do not feed `a` explicitly\n",
    "    output = session.run(b)\n",
    "    print(output)"
   ]
  },
  {
   "cell_type": "markdown",
   "metadata": {},
   "source": [
    "In order to feed **`a`** we can make use of the `feed_dict` argument \n",
    "in the `session.run()` method. The argument takes a dictionary, with \n",
    "the key being the placeholder objects you want to feed, and the \n",
    "values of the dictionary are the values you want to feed to the \n",
    "corresponding placceholder. \n",
    "\n",
    "If we now feed **`a`** a value, we get it to run properly wihtout errors. "
   ]
  },
  {
   "cell_type": "code",
   "execution_count": 4,
   "metadata": {
    "collapsed": false
   },
   "outputs": [
    {
     "name": "stdout",
     "output_type": "stream",
     "text": [
      "[[ 2.  2.  2.  2.]\n",
      " [ 2.  2.  2.  2.]\n",
      " [ 2.  2.  2.  2.]]\n"
     ]
    }
   ],
   "source": [
    "# Create an array to be fed to `a`\n",
    "input_array = np.ones((3,4))\n",
    "\n",
    "# ------------------------------------------------\n",
    "#              Create a session, and run the graph\n",
    "# ------------------------------------------------\n",
    "with tf.Session(graph=graph) as session:\n",
    "    # run, but also feed `a` a value\n",
    "    output = session.run(b, feed_dict={a: input_array})\n",
    "    print(output)"
   ]
  },
  {
   "cell_type": "markdown",
   "metadata": {},
   "source": [
    "### TODO: add a little discussion about feeding values and how it can technically be used for constant and variable tensors too, but that it is best practice to use it on placeholders."
   ]
  },
  {
   "cell_type": "markdown",
   "metadata": {},
   "source": [
    "## But I'm a fussy eater! \n",
    "Placeholders will only allow you to feed them values that match some particular shape and size. When we declared the placeholder, we told it that we want a 3 by 4 tensor, composed of floats. If we try to feed it a 10 by 4 tensor instead we get an error message such as: \n",
    "\n",
    "    ValueError: Cannot feed value of shape (10, 4) for Tensor u'Placeholder:0', which has shape (Dimension(3), Dimension(4))\n",
    "\n",
    "Run the following code to see for yourself: "
   ]
  },
  {
   "cell_type": "code",
   "execution_count": null,
   "metadata": {
    "collapsed": false
   },
   "outputs": [],
   "source": [
    "# Create an array to be fed to `a`\n",
    "input_array = np.ones((10,4))\n",
    "\n",
    "# ------------------------------------------------\n",
    "#              Create a session, and run the graph\n",
    "# ------------------------------------------------\n",
    "with tf.Session(graph=graph) as session:\n",
    "    # feed `a` a value that is not 3 by 4\n",
    "    output = session.run(b, feed_dict={a: input_array})\n",
    "    print(output)"
   ]
  },
  {
   "cell_type": "markdown",
   "metadata": {},
   "source": [
    "## Flexibile diet\n",
    "\n",
    "We may want the placeholder to be a little less fussy about what we \n",
    "feed it. For example when we are creating a neural network, the \n",
    "inputs may have numbers of samples. Our training, validation, \n",
    "and test sets usually wont have the same number of samples, and \n",
    "when we use it in production, we will also want to make \n",
    "predictions on different amounts of data, sometimes we may only \n",
    "want to make a prediction on a single sample. But, in all cases \n",
    "there are still similarities in the data, We will want all the \n",
    "data to have at least one of the dimensions to be the same size. \n",
    "\n",
    "With Placeholders, we can constrain the size along certain \n",
    "dimensions, and be completely flexible along other dimensions. \n",
    "In order to do so, we use the `shape` argument and place a \n",
    "`None` value for the dimensions we want to be flexible with, \n",
    "and an integer value for the dimensions we want to constrain.\n",
    "\n",
    "In the example below we make the first axis (number of rows) \n",
    "flexible, and contrain the second axis (number of columns) \n",
    "to 4. We feed it a 5 by 4 tensor: "
   ]
  },
  {
   "cell_type": "code",
   "execution_count": 6,
   "metadata": {
    "collapsed": false
   },
   "outputs": [
    {
     "name": "stdout",
     "output_type": "stream",
     "text": [
      "[[ 2.  2.  2.  2.]\n",
      " [ 2.  2.  2.  2.]\n",
      " [ 2.  2.  2.  2.]\n",
      " [ 2.  2.  2.  2.]\n",
      " [ 2.  2.  2.  2.]]\n"
     ]
    }
   ],
   "source": [
    "# Create a 5 by 4 array to be fed to `a`\n",
    "input_array = np.ones((5,4))\n",
    "\n",
    "# ------------------------------------------------\n",
    "#                                    Build a graph\n",
    "# ------------------------------------------------\n",
    "graph = tf.Graph()\n",
    "with graph.as_default():\n",
    "    # Create a placceholder that is flaxible along the first \n",
    "    # dimension and fixed along the second dimension. \n",
    "    a = tf.placeholder(tf.float32, shape=(None, 4))\n",
    "    b = a * 2\n",
    "    \n",
    "# ------------------------------------------------\n",
    "#              Create a session, and run the graph\n",
    "# ------------------------------------------------\n",
    "with tf.Session(graph=graph) as session:\n",
    "    output = session.run(b, feed_dict={a: input_array})\n",
    "    print(output)"
   ]
  },
  {
   "cell_type": "markdown",
   "metadata": {},
   "source": [
    "Now we test it with a 12 by 4 tensor"
   ]
  },
  {
   "cell_type": "code",
   "execution_count": 7,
   "metadata": {
    "collapsed": false
   },
   "outputs": [
    {
     "name": "stdout",
     "output_type": "stream",
     "text": [
      "[[ 2.  2.  2.  2.]\n",
      " [ 2.  2.  2.  2.]\n",
      " [ 2.  2.  2.  2.]\n",
      " [ 2.  2.  2.  2.]\n",
      " [ 2.  2.  2.  2.]\n",
      " [ 2.  2.  2.  2.]\n",
      " [ 2.  2.  2.  2.]\n",
      " [ 2.  2.  2.  2.]\n",
      " [ 2.  2.  2.  2.]\n",
      " [ 2.  2.  2.  2.]\n",
      " [ 2.  2.  2.  2.]\n",
      " [ 2.  2.  2.  2.]]\n"
     ]
    }
   ],
   "source": [
    "# Create a 12 by 4 array to be fed to `a`\n",
    "input_array = np.ones((12,4))\n",
    "\n",
    "# ------------------------------------------------\n",
    "#              Create a session, and run the graph\n",
    "# ------------------------------------------------\n",
    "with tf.Session(graph=graph) as session:\n",
    "    output = session.run(b, feed_dict={a: input_array})\n",
    "    print(output)"
   ]
  },
  {
   "cell_type": "markdown",
   "metadata": {},
   "source": [
    "But if we test it on a tensor whose second axis is not 4, we get an error message like this: \n",
    "\n",
    "    ValueError: Cannot feed value of shape (12, 5) for Tensor u'Placeholder:0', which has shape (Dimension(None), Dimension(4))\n"
   ]
  }
 ],
 "metadata": {
  "kernelspec": {
   "display_name": "Python 2",
   "language": "python",
   "name": "python2"
  },
  "language_info": {
   "codemirror_mode": {
    "name": "ipython",
    "version": 2
   },
   "file_extension": ".py",
   "mimetype": "text/x-python",
   "name": "python",
   "nbconvert_exporter": "python",
   "pygments_lexer": "ipython2",
   "version": "2.7.6"
  }
 },
 "nbformat": 4,
 "nbformat_minor": 0
}
