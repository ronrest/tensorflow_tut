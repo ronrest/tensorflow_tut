{
 "cells": [
  {
   "cell_type": "markdown",
   "metadata": {},
   "source": [
    "05 - TENSORFLOW TUTORIAL - Placeholders\n",
    "==========================================="
   ]
  },
  {
   "cell_type": "code",
   "execution_count": 1,
   "metadata": {
    "collapsed": true
   },
   "outputs": [],
   "source": [
    "# ==============================================================================\n",
    "#                                                                        IMPORTS\n",
    "# ==============================================================================\n",
    "from __future__ import print_function, division\n",
    "import tensorflow as tf\n",
    "import numpy as np"
   ]
  },
  {
   "cell_type": "markdown",
   "metadata": {},
   "source": [
    "Placeholders can be thought of as containers. They contain nothing on \n",
    "their own untill you fill them up. And just like containers, there are \n",
    "also restrictions about the shape and size of things you can put in it. \n",
    "\n",
    "Placeholders are useful when you have tensors whose values you want to \n",
    "control, and which you expect to be different on separate sessions. \n",
    "So for neural networks, you would want to use placeholders for the \n",
    "input vectors/matrices, since you will have a different of values for \n",
    "the training set, validation set, test set, and the inputs you use \n",
    "as your final product. \n"
   ]
  },
  {
   "cell_type": "markdown",
   "metadata": {},
   "source": [
    "## Declaring a placeholder \n",
    "\n",
    "Declaring a placeholder is just a matter of placing a line like \n",
    "the following when creating a graph. \n",
    "\n",
    "```python\n",
    "tf.placeholder(tf.float32, shape=[3,4])\n",
    "```\n",
    "\n",
    "Here we declared that we want a tensor that is 3 by 4 in size \n",
    "and composed of elements that are or can be converted to 32 \n",
    "bit floats. \n",
    "\n",
    "## Feed me! I'm hungry\n",
    "\n",
    "A very important feature about placeholders is that they require \n",
    "feeding. We need to feed them some value everytime we start a new \n",
    "session. If we try to run through a graph, without feeding values \n",
    "to placeholders, then we get an error message such as:\n",
    "\n",
    "    InvalidArgumentError: You must feed a value for placeholder tensor 'Placeholder' with dtype float and shape dim { size: 3 } dim { size: 4 }\n",
    "\n",
    "See for yourself, run the following code:"
   ]
  },
  {
   "cell_type": "code",
   "execution_count": null,
   "metadata": {
    "collapsed": false
   },
   "outputs": [],
   "source": [
    "# ------------------------------------------------\n",
    "#                                    Build a graph\n",
    "# ------------------------------------------------\n",
    "graph = tf.Graph()\n",
    "with graph.as_default():\n",
    "    a = tf.placeholder(tf.float32, shape=(3, 4))\n",
    "    b = a * 2\n",
    "    \n",
    "# ------------------------------------------------\n",
    "#              Create a session, and run the graph\n",
    "# ------------------------------------------------\n",
    "with tf.Session(graph=graph) as session:\n",
    "    # run, but do not feed `a` explicitly\n",
    "    output = session.run(b)\n",
    "    print(output)"
   ]
  },
  {
   "cell_type": "markdown",
   "metadata": {},
   "source": [
    "In order to feed **`a`** we can make use of the `feed_dict` argument \n",
    "in the `session.run()` method. The argument takes a dictionary, with \n",
    "the key being the placeholder objects you want to feed, and the \n",
    "values of the dictionary are the values you want to feed to the \n",
    "corresponding placceholder. \n",
    "\n",
    "If we now feed **`a`** a value, we get it to run properly wihtout errors. "
   ]
  },
  {
   "cell_type": "code",
   "execution_count": 4,
   "metadata": {
    "collapsed": false
   },
   "outputs": [
    {
     "name": "stdout",
     "output_type": "stream",
     "text": [
      "[[ 2.  2.  2.  2.]\n",
      " [ 2.  2.  2.  2.]\n",
      " [ 2.  2.  2.  2.]]\n"
     ]
    }
   ],
   "source": [
    "# Create an array to be fed to `a`\n",
    "input_array = np.ones((3,4))\n",
    "\n",
    "# ------------------------------------------------\n",
    "#              Create a session, and run the graph\n",
    "# ------------------------------------------------\n",
    "with tf.Session(graph=graph) as session:\n",
    "    # run, but also feed `a` a value\n",
    "    output = session.run(b, feed_dict={a: input_array})\n",
    "    print(output)"
   ]
  }
 ],
 "metadata": {
  "kernelspec": {
   "display_name": "Python 2",
   "language": "python",
   "name": "python2"
  },
  "language_info": {
   "codemirror_mode": {
    "name": "ipython",
    "version": 2
   },
   "file_extension": ".py",
   "mimetype": "text/x-python",
   "name": "python",
   "nbconvert_exporter": "python",
   "pygments_lexer": "ipython2",
   "version": "2.7.6"
  }
 },
 "nbformat": 4,
 "nbformat_minor": 0
}
