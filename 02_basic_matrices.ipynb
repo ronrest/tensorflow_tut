{
 "cells": [
  {
   "cell_type": "markdown",
   "metadata": {},
   "source": [
    "02 - TENSORFLOW TUTORIAL - BASIC MATRICES\n",
    "============================================\n",
    "By Ronny Restrepo"
   ]
  },
  {
   "cell_type": "code",
   "execution_count": 1,
   "metadata": {
    "collapsed": true
   },
   "outputs": [],
   "source": [
    "# ==============================================================================\n",
    "#                                                                        IMPORTS\n",
    "# ==============================================================================\n",
    "from __future__ import print_function, division\n",
    "import tensorflow as tf\n",
    "import numpy as np"
   ]
  },
  {
   "cell_type": "markdown",
   "metadata": {},
   "source": [
    "So we have played around with scalar values (0-dimensional tensors) now its \n",
    "time to start playing around with multi-dimensional tensors. \n",
    "\n",
    "## Constant Matrices\n",
    "### TODO: move discussion about constants tot he next lesson. \n",
    "\n",
    "We saw earlier that  `tf.constant()` allows us to create a tensor with a \n",
    "particular value that we specify when we declare the graph. We used it \n",
    "previously to create scalar values. We can also use it to create matrices \n",
    "whose value we specify ahead of time using numpy. \n",
    "\n",
    "Below we create a matrix called `data`, and use this as the value for the \n",
    "tensor `a` in the graph. "
   ]
  },
  {
   "cell_type": "code",
   "execution_count": 2,
   "metadata": {
    "collapsed": false
   },
   "outputs": [
    {
     "name": "stdout",
     "output_type": "stream",
     "text": [
      "[[ 1.  2.  3.]\n",
      " [ 2.  1.  2.]\n",
      " [ 3.  3.  3.]\n",
      " [ 4.  2.  4.]]\n"
     ]
    }
   ],
   "source": [
    "# ==============================================================================\n",
    "#                                                                CREATE A MATRIX\n",
    "# ==============================================================================\n",
    "data = np.array([[1, 2, 3],\n",
    "                 [2, 1, 2],\n",
    "                 [3, 3, 3],\n",
    "                 [4, 2, 4]])\n",
    "\n",
    "# ------------------------------------------------\n",
    "#                                    Build a graph\n",
    "# ------------------------------------------------\n",
    "graph = tf.Graph()\n",
    "with graph.as_default():\n",
    "    a = tf.constant(data, dtype=tf.float32)\n",
    "\n",
    "# ------------------------------------------------\n",
    "#              Create a session, and run the graph\n",
    "# ------------------------------------------------\n",
    "with tf.Session(graph=graph) as sess:\n",
    "    output_a = sess.run(a)\n",
    "    print(output_a)"
   ]
  },
  {
   "cell_type": "markdown",
   "metadata": {},
   "source": [
    "## TODO: Add more ways of creating matrices in tensorflow\n"
   ]
  }
 ],
 "metadata": {
  "kernelspec": {
   "display_name": "Python 2",
   "language": "python",
   "name": "python2"
  },
  "language_info": {
   "codemirror_mode": {
    "name": "ipython",
    "version": 2
   },
   "file_extension": ".py",
   "mimetype": "text/x-python",
   "name": "python",
   "nbconvert_exporter": "python",
   "pygments_lexer": "ipython2",
   "version": "2.7.6"
  }
 },
 "nbformat": 4,
 "nbformat_minor": 0
}
