{
 "cells": [
  {
   "cell_type": "markdown",
   "metadata": {},
   "source": [
    "01 - TENSORFLOW TUTORIAL - BASICS\n",
    "====================================\n",
    "By Ronny Restrepo"
   ]
  },
  {
   "cell_type": "code",
   "execution_count": 1,
   "metadata": {
    "collapsed": true
   },
   "outputs": [],
   "source": [
    "# ==============================================================================\n",
    "#                                                                        IMPORTS\n",
    "# ==============================================================================\n",
    "import tensorflow as tf\n",
    "import numpy as np"
   ]
  },
  {
   "cell_type": "markdown",
   "metadata": {},
   "source": [
    "## TEMPLATE\n",
    "\n",
    "The following is a template that we will be using as the skeleton for the code used in all subsequent examples and lessons. it consists of two components: \n",
    "\n",
    "1. Building a graph\n",
    "2. Running a session\n"
   ]
  },
  {
   "cell_type": "markdown",
   "metadata": {},
   "source": [
    "```python\n",
    "# ==============================================================================\n",
    "#                                                                       TEMPLATE\n",
    "# ==============================================================================\n",
    "# ------------------------------------------------\n",
    "#                                    Build a graph\n",
    "# ------------------------------------------------\n",
    "graph = tf.Graph()\n",
    "with graph.as_default():\n",
    "    a = tf.constant(1.0)\n",
    "\n",
    "# ------------------------------------------------\n",
    "#              Create a session, and run the graph\n",
    "# ------------------------------------------------\n",
    "with tf.Session(graph=graph) as session:\n",
    "    output = session.run(a)\n",
    "    print(output)\n",
    "```"
   ]
  },
  {
   "cell_type": "markdown",
   "metadata": {},
   "source": [
    "# Graph\n",
    "In order to make use of Tensorflow we must first create what is called a **graph**. \n",
    "In the context of Neural Networks, this can be thought of as creating the \n",
    "architecture of out neural network. So here we specify what the vectors/matrices \n",
    "used as inputs should look like. What the hidden layers should look like, and \n",
    "what activation functions to perform. We specify what the weights and biases should \n",
    "look like, and how they interact with the hidden layers. We specify the output \n",
    "layer, loss function, and the optimisation function to use.  "
   ]
  },
  {
   "cell_type": "markdown",
   "metadata": {},
   "source": [
    "# Session\n",
    "In order to actually run a Tensorflow graph we need to initialise a session and \n",
    "specify what portion of the graph we want to run. \n",
    "\n",
    "If you are familiar with opening files in python, you would know that once you \n",
    "finish the operations on that file you should close that file by using the \n",
    "`close()` method in order to free up the resources used.  \n",
    "\n",
    "```python\n",
    "fileObj = open('text.txt', \"w\")\n",
    "fileObj.write(\"Some line of text\\n\")\n",
    "fileObj.write(\"Another line of text\\n\")\n",
    "...\n",
    "some operations perhaps other operations on the file\n",
    "...\n",
    "fileObj.close()\n",
    "```\n",
    "\n",
    "An alternative to explicitly using the `close()` method is to open the file \n",
    "using a context manager (`with`).\n",
    "\n",
    "\n",
    "```python\n",
    "with open('text.txt', \"w\") as fileObj:\n",
    "    fileObj.write(\"Some line of text\\n\")\n",
    "    fileObj.write(\"Another line of text\\n\")\n",
    "    ...\n",
    "    some operations perhaps other operations on the file\n",
    "    ...\n",
    "```\n",
    "\n",
    "Using this method, the file object will be closed automatically once the block \n",
    "of indented code has been executed. But, of greater importance, is that it will \n",
    "close the file object properly *even if* there is some bug in the indented code \n",
    "that causes it to crash before reaching the end. So the file object will always \n",
    "be closed properly. \n",
    "\n",
    "Just like opening files in python, you will also want to close the tensorflow \n",
    "session once you are finished with it to free up resources. And similarly, we \n",
    "can explicitly start a session, and then explicitly close it using the `close()` \n",
    "method, or, we can use the context manager (as is the case in the template code). \n",
    "Again, the advantage of using the context manager is that it should close the \n",
    "session properly even if the code in between causes a crash.  \n",
    "\n",
    "```python\n",
    "with tf.Session(graph=graph) as session:\n",
    "    output = session.run(a)\n",
    "    ...\n",
    "    some operations perhaps other operations in the session\n",
    "    ...\n",
    "```"
   ]
  },
  {
   "cell_type": "markdown",
   "metadata": {},
   "source": [
    "<hr>\n",
    "Multiplying Numbers\n",
    "==========================================\n",
    "<hr>"
   ]
  },
  {
   "cell_type": "markdown",
   "metadata": {},
   "source": [
    "In Tensorflow, the basic units that we operate on are Tensors (hence the name). \n",
    "A Tensor is essentially a multi-dimensional array. A 1D Tensor is just \n",
    "the same as a vector. A 2D Tensor is like a Matrix. We can go to \n",
    "arbitrarially higher dimensions. And if we want single values, then we \n",
    "can create 0-dimensional Tensors. \n",
    "\n",
    "In order to create Tensors that have a specified value in Tensorflow, \n",
    "we make use fo the `tf.constant()` function. \n",
    "\n",
    "In the example below, we perform the simple task of multiplying two \n",
    "scalar values. We do this by declaring two 0-dimensional tensors in \n",
    "the graph, and perform a multiplication operation on them."
   ]
  },
  {
   "cell_type": "code",
   "execution_count": 4,
   "metadata": {
    "collapsed": false
   },
   "outputs": [
    {
     "name": "stdout",
     "output_type": "stream",
     "text": [
      "12.0\n"
     ]
    }
   ],
   "source": [
    "# ==============================================================================\n",
    "#                                                 MUTLIPLYING INDIVIDUAL NUMBERS\n",
    "# ==============================================================================\n",
    "# ------------------------------------------------\n",
    "#                                    Build a graph\n",
    "# ------------------------------------------------\n",
    "graph = tf.Graph()\n",
    "with graph.as_default():\n",
    "    a = tf.constant(3.0)\n",
    "    b = tf.constant(4.0)\n",
    "    c = a * b\n",
    "\n",
    "# ------------------------------------------------\n",
    "#              Create a session, and run the graph\n",
    "# ------------------------------------------------\n",
    "with tf.Session(graph=graph) as session:\n",
    "    output_c = session.run(c)\n",
    "    print(output_c)"
   ]
  },
  {
   "cell_type": "markdown",
   "metadata": {},
   "source": [
    "The graph that we have created has an architecture like this: \n",
    "\n",
    "![Multiplication Graph](img/01_session_run_multiplication.png)\n",
    "\n",
    "We have two Tensors `a` and `b` (each just a single value), and we perform a multiplication operation on them to get the value of the tensor `c`. \n",
    "\n",
    "Now take notice of the following line we used in the session manager:\n",
    "\n",
    "```python\n",
    "output_c = session.run(c)\n",
    "```\n",
    "\n",
    "Calling the `run()` method performs a single pass along the graph. But you need to specify how far along the graph you want to traverse. In the above example we passed it the argument `c`. This tells it to evaluate the value of `c`, as well as executing and evaluating all all the steps that `c` depends on. So for this graph, `c` depends on the values of `a` and `b`, so they get evaluated, and it also depends on the multiplication operation, so this operation gets executed as well.  \n"
   ]
  },
  {
   "cell_type": "markdown",
   "metadata": {},
   "source": [
    "# Appendix"
   ]
  },
  {
   "cell_type": "markdown",
   "metadata": {},
   "source": [
    "\n",
    "### Session Run\n",
    "a, b, c = session.run(fetches=[tf_a, tf_b, tf_c], feed_dict=None)\n",
    "\n",
    "Performs a single pass, executing every single step necessary to execute and\n",
    "evaluate all of the operations and Tensors specified in the `fetches` argument.\n",
    "\n",
    "Returns the same number of elements as is fed into the `fetches` argument.\n",
    "\n",
    "If the ith element of the fetches argument is:\n",
    "    - An operation, then the ith return value will be None\n",
    "    - A Tensor, then the return value will be a numpy array that contains the\n",
    "      values of that Tensor.\n",
    "    - A sparse Tensor, then the return value will be a SparseTensorValue\n",
    "      containing the value of that sparse tensor\n"
   ]
  }
 ],
 "metadata": {
  "kernelspec": {
   "display_name": "Python 2",
   "language": "python",
   "name": "python2"
  },
  "language_info": {
   "codemirror_mode": {
    "name": "ipython",
    "version": 2
   },
   "file_extension": ".py",
   "mimetype": "text/x-python",
   "name": "python",
   "nbconvert_exporter": "python",
   "pygments_lexer": "ipython2",
   "version": "2.7.6"
  }
 },
 "nbformat": 4,
 "nbformat_minor": 0
}
