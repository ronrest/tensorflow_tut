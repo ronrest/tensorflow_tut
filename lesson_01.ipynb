{
 "cells": [
  {
   "cell_type": "markdown",
   "metadata": {},
   "source": [
    "01 - TENSORFLOW TUTORIAL - BASICS\n",
    "====================================\n",
    "By Ronny Restrepo"
   ]
  },
  {
   "cell_type": "code",
   "execution_count": 1,
   "metadata": {
    "collapsed": true
   },
   "outputs": [],
   "source": [
    "# ==============================================================================\n",
    "#                                                                        IMPORTS\n",
    "# ==============================================================================\n",
    "import tensorflow as tf\n",
    "import numpy as np"
   ]
  },
  {
   "cell_type": "markdown",
   "metadata": {},
   "source": [
    "## TEMPLATE\n",
    "\n",
    "The following is a template that we will be using as the skeleton for the code used in all subsequent examples and lessons. it consists of two components: \n",
    "\n",
    "1. Building a graph\n",
    "2. Running a session\n"
   ]
  },
  {
   "cell_type": "markdown",
   "metadata": {},
   "source": [
    "```python\n",
    "# ==============================================================================\n",
    "#                                                                       TEMPLATE\n",
    "# ==============================================================================\n",
    "# ------------------------------------------------\n",
    "#                                    Build a graph\n",
    "# ------------------------------------------------\n",
    "graph = tf.Graph()\n",
    "with graph.as_default():\n",
    "    a = tf.constant(1.0)\n",
    "\n",
    "# ------------------------------------------------\n",
    "#              Create a session, and run the graph\n",
    "# ------------------------------------------------\n",
    "with tf.Session(graph=graph) as sess:\n",
    "    output = sess.run(a)\n",
    "    print(output)\n",
    "```"
   ]
  },
  {
   "cell_type": "markdown",
   "metadata": {},
   "source": [
    "# Graph\n",
    "In order to make use of Tensorflow we must first create what is called a **graph**. In the context of Neural Networks, this can be thought of as creating the architecture of out neural network. So here we specify what the vectors/matrices used as inputs should look like. What the hidden layers should look like, and what activation functions to perform. We specify what the weights and biases should look like, and how they interact with the hidden layers. We specify the output layer, the loss function, and the optimisation function to use.  "
   ]
  },
  {
   "cell_type": "code",
   "execution_count": null,
   "metadata": {
    "collapsed": true
   },
   "outputs": [],
   "source": []
  },
  {
   "cell_type": "code",
   "execution_count": null,
   "metadata": {
    "collapsed": true
   },
   "outputs": [],
   "source": []
  }
 ],
 "metadata": {
  "kernelspec": {
   "display_name": "Python 2",
   "language": "python",
   "name": "python2"
  },
  "language_info": {
   "codemirror_mode": {
    "name": "ipython",
    "version": 2
   },
   "file_extension": ".py",
   "mimetype": "text/x-python",
   "name": "python",
   "nbconvert_exporter": "python",
   "pygments_lexer": "ipython2",
   "version": "2.7.6"
  }
 },
 "nbformat": 4,
 "nbformat_minor": 0
}
