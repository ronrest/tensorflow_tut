{
 "cells": [
  {
   "cell_type": "markdown",
   "metadata": {},
   "source": [
    "# Loss FUnctions"
   ]
  },
  {
   "cell_type": "markdown",
   "metadata": {},
   "source": [
    "\n",
    "## Sampled Softmax \n",
    "This is useful for implementing things like word2vec\n",
    "\n",
    "```python\n",
    "# Where `dim` is the size of the embeddings\n",
    "# Take Note of the orientation of the weights, it is the same as Andrew Ng's orientation. \n",
    "tf.nn.sampled_softmax_loss(weights=W2,  # NOTE! it is [num_classes, dim]\n",
    "                           biases=B2,   # [num_classes]\n",
    "                           inputs=A1,   # Previous layer size [batch_size, dim]\n",
    "                           labels=Y,    # [batch_size, num_true]\n",
    "                           num_sampled, # Number of negative samples to use\n",
    "                           num_classes, # Number of output classses you want\n",
    "                           remove_accidental_hits=True, # removes samples that \n",
    "                                                        # are the same as target\n",
    "                           )\n",
    "```"
   ]
  },
  {
   "cell_type": "markdown",
   "metadata": {},
   "source": [
    "## Cross Entropy\n",
    "\n",
    "```\n",
    "cross_entropy = tf.reduce_mean(-tf.reduce_sum(y_ * tf.log(y), reduction_indices=[1]))\n",
    "```"
   ]
  },
  {
   "cell_type": "code",
   "execution_count": null,
   "metadata": {
    "collapsed": true
   },
   "outputs": [],
   "source": []
  }
 ],
 "metadata": {
  "kernelspec": {
   "display_name": "Python 2",
   "language": "python",
   "name": "python2"
  },
  "language_info": {
   "codemirror_mode": {
    "name": "ipython",
    "version": 2
   },
   "file_extension": ".py",
   "mimetype": "text/x-python",
   "name": "python",
   "nbconvert_exporter": "python",
   "pygments_lexer": "ipython2",
   "version": "2.7.6"
  }
 },
 "nbformat": 4,
 "nbformat_minor": 0
}
