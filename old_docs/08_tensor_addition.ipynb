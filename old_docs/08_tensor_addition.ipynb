{
 "cells": [
  {
   "cell_type": "markdown",
   "metadata": {},
   "source": [
    "# Tensor Sums / Addition"
   ]
  },
  {
   "cell_type": "code",
   "execution_count": 2,
   "metadata": {
    "collapsed": true
   },
   "outputs": [],
   "source": [
    "# ==============================================================================\n",
    "#                                                                        IMPORTS\n",
    "# ==============================================================================\n",
    "from __future__ import print_function, division\n",
    "import tensorflow as tf\n",
    "import numpy as np"
   ]
  },
  {
   "cell_type": "markdown",
   "metadata": {},
   "source": [
    "We can use:\n",
    "\n",
    "```\n",
    "tf.reduce_sum(a)\n",
    "```\n",
    "\n",
    "To get a sum of all the elements in a tensor. If we want to add along some specific axis we can specify that using: \n",
    "\n",
    "```\n",
    "tf.reduce_sum(a, reduction_indices=[1])\n",
    "```\n",
    "\n",
    "In the example below we add up all the elements, sum along the rows, and along the columns. \n"
   ]
  },
  {
   "cell_type": "code",
   "execution_count": 13,
   "metadata": {
    "collapsed": false
   },
   "outputs": [
    {
     "name": "stdout",
     "output_type": "stream",
     "text": [
      "Sum of all elements    :  66.0\n",
      "Sum of each row    :  [  6.  60.]\n",
      "Sum of each column :  [ 11.  22.  33.]\n"
     ]
    }
   ],
   "source": [
    "# ------------------------------------------------\n",
    "#                                    Build a graph\n",
    "# ------------------------------------------------\n",
    "graph = tf.Graph()\n",
    "with graph.as_default():\n",
    "    # A 2x3 matrix\n",
    "    a = tf.constant(np.array([[ 1, 2, 3],\n",
    "                              [10,20,30]]),\n",
    "                            dtype=tf.float32)\n",
    "\n",
    "    # Sums of Elements\n",
    "    x = tf.reduce_sum(a)                        # Sum of all elements\n",
    "    y = tf.reduce_sum(a, reduction_indices=[1]) # Sum of each row\n",
    "    z = tf.reduce_sum(a, reduction_indices=[0]) # Sum of each col\n",
    "\n",
    "# ------------------------------------------------\n",
    "#              Create a session, and run the graph\n",
    "# ------------------------------------------------\n",
    "with tf.Session(graph=graph) as session:\n",
    "    sum_all, sum_rows, sum_cols = session.run([x,y,z])\n",
    "    print(\"Sum of all elements    : \", sum_all)\n",
    "    print(\"Sum of each row    : \", sum_rows)\n",
    "    print(\"Sum of each column : \", sum_cols)\n",
    "    \n",
    "    "
   ]
  },
  {
   "cell_type": "markdown",
   "metadata": {},
   "source": [
    "# Addition between tensors of same dimensions\n",
    "\n",
    "**TODO: add some content here**\n"
   ]
  },
  {
   "cell_type": "code",
   "execution_count": null,
   "metadata": {
    "collapsed": true
   },
   "outputs": [],
   "source": [
    "# TODO: add code. "
   ]
  },
  {
   "cell_type": "markdown",
   "metadata": {},
   "source": [
    "# Adition of 2D tensor and a 1D tensor\n",
    "\n",
    "Lets say that **`a`** is a 2D tensor, and **`b`** is a \n",
    "1D tensor, then in order for  **`a + b`** to work, then \n",
    "the dimensions have to match up as follows: \n",
    "\n",
    "$a = n \\times m$\n",
    "\n",
    "$b = m$\n",
    "\n",
    "The *i'th* column of **`a`** is incremented by the *i'th* element of **`b`**. So it adds along columns. \n"
   ]
  },
  {
   "cell_type": "code",
   "execution_count": 7,
   "metadata": {
    "collapsed": false
   },
   "outputs": [
    {
     "name": "stdout",
     "output_type": "stream",
     "text": [
      "[[  5.   5.   5.   5.]\n",
      " [ 15.  15.  15.  15.]\n",
      " [ 25.  25.  25.  25.]]\n"
     ]
    }
   ],
   "source": [
    "# ------------------------------------------------\n",
    "#                                    Build a graph\n",
    "# ------------------------------------------------\n",
    "graph = tf.Graph()\n",
    "with graph.as_default():\n",
    "    # A 3x4 tensor\n",
    "    a = tf.constant(np.array([[1,2,3,4],\n",
    "                              [11,12,13,14],\n",
    "                              [21,22,23,24]]), \n",
    "                            dtype=tf.float32)\n",
    "    # A 1D tensor\n",
    "    b = tf.constant([4,3,2,1], dtype=tf.float32)\n",
    "    \n",
    "    # Add them\n",
    "    c = a + b\n",
    "\n",
    "# ------------------------------------------------\n",
    "#              Create a session, and run the graph\n",
    "# ------------------------------------------------\n",
    "with tf.Session(graph=graph) as session:\n",
    "    output = session.run(c)\n",
    "    print(output)"
   ]
  },
  {
   "cell_type": "markdown",
   "metadata": {},
   "source": [
    "If we want to add along rows, then we have to make **`b`** a \n",
    "2D tensor, with dimensions $m \\times 1$"
   ]
  },
  {
   "cell_type": "code",
   "execution_count": 9,
   "metadata": {
    "collapsed": false
   },
   "outputs": [
    {
     "name": "stdout",
     "output_type": "stream",
     "text": [
      "[[  4.   5.   6.   7.]\n",
      " [ 13.  14.  15.  16.]\n",
      " [ 22.  23.  24.  25.]]\n"
     ]
    }
   ],
   "source": [
    "# ------------------------------------------------\n",
    "#                                    Build a graph\n",
    "# ------------------------------------------------\n",
    "graph = tf.Graph()\n",
    "with graph.as_default():\n",
    "    # A 3x4 tensor\n",
    "    a = tf.constant(np.array([[1,2,3,4],\n",
    "                              [11,12,13,14],\n",
    "                              [21,22,23,24]]), \n",
    "                            dtype=tf.float32)\n",
    "    # A 2D tensor, with only one column\n",
    "    b = tf.constant(np.array([[3],\n",
    "                              [2],\n",
    "                              [1]]), dtype=tf.float32)\n",
    "    \n",
    "    # Add them\n",
    "    c = a + b\n",
    "\n",
    "# ------------------------------------------------\n",
    "#              Create a session, and run the graph\n",
    "# ------------------------------------------------\n",
    "with tf.Session(graph=graph) as session:\n",
    "    output = session.run(c)\n",
    "    print(output)"
   ]
  }
 ],
 "metadata": {
  "kernelspec": {
   "display_name": "Python 2",
   "language": "python",
   "name": "python2"
  },
  "language_info": {
   "codemirror_mode": {
    "name": "ipython",
    "version": 2
   },
   "file_extension": ".py",
   "mimetype": "text/x-python",
   "name": "python",
   "nbconvert_exporter": "python",
   "pygments_lexer": "ipython2",
   "version": "2.7.6"
  },
  "nav_menu": {},
  "toc": {
   "navigate_menu": true,
   "number_sections": false,
   "sideBar": true,
   "threshold": 6,
   "toc_cell": false,
   "toc_section_display": "block",
   "toc_window_display": true
  }
 },
 "nbformat": 4,
 "nbformat_minor": 0
}
