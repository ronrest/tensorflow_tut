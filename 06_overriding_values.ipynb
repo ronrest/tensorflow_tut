{
 "cells": [
  {
   "cell_type": "markdown",
   "metadata": {},
   "source": [
    "06 - TENSORFLOW TUTORIAL - OVERIDING VALUES\n",
    "============================================\n",
    "By Ronny Restrepo\n",
    "\n",
    "## TODO: update content in this lesson to reflect the aditional content squeezed in lessons before this one. "
   ]
  },
  {
   "cell_type": "code",
   "execution_count": 1,
   "metadata": {
    "collapsed": true
   },
   "outputs": [],
   "source": [
    "# ==============================================================================\n",
    "#                                                                        IMPORTS\n",
    "# ==============================================================================\n",
    "from __future__ import print_function, division\n",
    "import tensorflow as tf\n",
    "import numpy as np"
   ]
  },
  {
   "cell_type": "markdown",
   "metadata": {},
   "source": [
    "Lets suppose that the values of `a` and `b` in a graph are specified by other python\n",
    "variables `val_a`, and `val_b`. Once we specify the graph, those values will be\n",
    "locked in, even if we change the value of `val_a` and `val_b` later on, and re-run\n",
    "the session, it will make use of the old values.\n",
    "If we want to update the values that are used in the graph, then we have to\n",
    "override them when using the `.run()` method."
   ]
  },
  {
   "cell_type": "code",
   "execution_count": 2,
   "metadata": {
    "collapsed": false
   },
   "outputs": [
    {
     "name": "stdout",
     "output_type": "stream",
     "text": [
      "c is 12.0\n"
     ]
    }
   ],
   "source": [
    "val_a = 3.0\n",
    "val_b = 4.0\n",
    "\n",
    "# ------------------------------------------------\n",
    "#                                    Build a graph\n",
    "# ------------------------------------------------\n",
    "graph = tf.Graph()\n",
    "with graph.as_default():\n",
    "    a = tf.constant(val_a)\n",
    "    b = tf.constant(val_b)\n",
    "    c = a * b\n",
    "\n",
    "# ------------------------------------------------\n",
    "#              Create a session, and run the graph\n",
    "# ------------------------------------------------\n",
    "with tf.Session(graph=graph) as sess:\n",
    "    output_c = sess.run(c)\n",
    "    print(\"c is\", output_c)"
   ]
  },
  {
   "cell_type": "code",
   "execution_count": 3,
   "metadata": {
    "collapsed": false
   },
   "outputs": [
    {
     "name": "stdout",
     "output_type": "stream",
     "text": [
      "c is 12.0\n"
     ]
    }
   ],
   "source": [
    "# Change values of variables\n",
    "val_a = 100.0\n",
    "val_b = 5.0\n",
    "\n",
    "# ------------------------------------------------\n",
    "#                                Rerun the session\n",
    "# ------------------------------------------------\n",
    "with tf.Session(graph=graph) as sess:\n",
    "    output_c = sess.run(c)\n",
    "    print(\"c is\", output_c)"
   ]
  },
  {
   "cell_type": "markdown",
   "metadata": {},
   "source": [
    "Instead of getting 500.0 we just get 12.0 again. So if we want to update the\n",
    "values in the graph, we have to over-ride them using the `feed_dict` argument \n",
    "in the `run()` method.\n",
    "\n",
    "`feed_dict` allows you to override the values of items specified in the graph.\n",
    " `feed_dict` should be a dictionary. The keys in this dictionary should be \n",
    " one of the variables that we specified when creating the graph. But not \n",
    " just any of those variables. It needs to be one of the variables that holds \n",
    " a Tensor."
   ]
  },
  {
   "cell_type": "code",
   "execution_count": 4,
   "metadata": {
    "collapsed": false
   },
   "outputs": [
    {
     "name": "stdout",
     "output_type": "stream",
     "text": [
      "c is 500.0\n"
     ]
    }
   ],
   "source": [
    "# ------------------------------------------------\n",
    "#                  Rerun the session with overides\n",
    "# ------------------------------------------------\n",
    "with tf.Session(graph=graph) as sess:\n",
    "    output_c = sess.run(c, feed_dict={a:val_a, b:val_b})\n",
    "    print(\"c is\", output_c)"
   ]
  },
  {
   "cell_type": "markdown",
   "metadata": {},
   "source": [
    "This time we get the value we were expecting.\n",
    "\n",
    "## Over-riding a return value\n",
    "\n",
    "One more thing you should be aware of, is that you cannot override the \n",
    "value of a value you want to return from a graph. \n",
    "\n",
    "If we try to over-ride the value of `c`, and also return it we get a \n",
    "`StatusNotOK` error message, go ahead, run the following code:"
   ]
  },
  {
   "cell_type": "code",
   "execution_count": null,
   "metadata": {
    "collapsed": false
   },
   "outputs": [],
   "source": [
    "# ------------------------------------------------\n",
    "#              Rerun with overide on return values \n",
    "# ------------------------------------------------\n",
    "with tf.Session(graph=graph) as sess:\n",
    "    output_c = sess.run(c, feed_dict={c:23.0})\n",
    "    print(\"c is\", output_c)"
   ]
  },
  {
   "cell_type": "markdown",
   "metadata": {},
   "source": [
    "## Data types of over-ride values\n",
    "\n",
    "Another thing to note is that the value that we feed into `feed_dict`, should\n",
    "be an object that can be converted to the same data type as was specified for\n",
    "that tensor when initialising the graph.\n",
    "\n",
    "So, if we try to over-ride `a` with a string, it will throw a ValueError: \n",
    "\n",
    "    ValueError: could not convert string to float\n",
    "    \n",
    "Go ahead, run the code to see for yourself: "
   ]
  },
  {
   "cell_type": "code",
   "execution_count": null,
   "metadata": {
    "collapsed": false
   },
   "outputs": [],
   "source": [
    "# ------------------------------------------------\n",
    "#              Rerun with overide on return values \n",
    "# ------------------------------------------------\n",
    "with tf.Session(graph=graph) as sess:\n",
    "    output_c = sess.run(c, feed_dict={a:\"fff\"})\n",
    "    print(\"c is\", output_c)"
   ]
  },
  {
   "cell_type": "markdown",
   "metadata": {},
   "source": [
    "Later on, when `placeholders` are introduced, you will see that \n",
    "over-rides can some times also expect the over-ride value to be \n",
    "a specific shape of tensor. "
   ]
  }
 ],
 "metadata": {
  "kernelspec": {
   "display_name": "Python 2",
   "language": "python",
   "name": "python2"
  },
  "language_info": {
   "codemirror_mode": {
    "name": "ipython",
    "version": 2
   },
   "file_extension": ".py",
   "mimetype": "text/x-python",
   "name": "python",
   "nbconvert_exporter": "python",
   "pygments_lexer": "ipython2",
   "version": "2.7.6"
  }
 },
 "nbformat": 4,
 "nbformat_minor": 0
}
