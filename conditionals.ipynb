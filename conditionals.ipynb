{
 "cells": [
  {
   "cell_type": "markdown",
   "metadata": {},
   "source": [
    "# Tensorflow Basics\n",
    "*By Ronny Restrepo*\n",
    "\n",
    "# Conditionals\n",
    "Sometimes you may only want to make use of a certain value, or run a \n",
    "certain portion of the graph when some condition is satisfied. This tutorial will guide you through the proper way to do this in tensorflow. But first, lets start by setting up the environment.   "
   ]
  },
  {
   "cell_type": "code",
   "execution_count": 2,
   "metadata": {
    "collapsed": true
   },
   "outputs": [],
   "source": [
    "# ================================================\n",
    "#                                          IMPORTS\n",
    "# ================================================\n",
    "from __future__ import print_function\n",
    "import tensorflow as tf"
   ]
  },
  {
   "cell_type": "markdown",
   "metadata": {},
   "source": [
    "## Conditionally Use a Value\n",
    "\n",
    "### The Naive (and Wrong) Way\n",
    "Suppose you want some tensor to take on a particular value when a condition is \n",
    "satisfied. For example, you may want a particular value during training time, \n",
    "and a different value when it is not training. \n",
    "\n",
    "Intuitively, you may think that something like the following code should work. "
   ]
  },
  {
   "cell_type": "code",
   "execution_count": null,
   "metadata": {
    "collapsed": false
   },
   "outputs": [],
   "source": [
    "# ------------------------------------------------\n",
    "#                                    Build a graph\n",
    "# ------------------------------------------------\n",
    "graph = tf.Graph()\n",
    "with graph.as_default():\n",
    "    is_training = tf.placeholder(dtype=tf.bool, shape=None)\n",
    "    \n",
    "    if is_training:\n",
    "        c = tf.constant(777)\n",
    "    else:\n",
    "        c = tf.constant(222)"
   ]
  },
  {
   "cell_type": "markdown",
   "metadata": {},
   "source": [
    "Depending on the version of tensorflow you are using, you will get one of the \n",
    "following outcomes:\n",
    "\n",
    "1. On newer versions of Tensorflow, it will throw an error message like the following: \n",
    "```\n",
    "TypeError: Using a tf.Tensor as a Python bool is not allowed.\n",
    "```\n",
    "\n",
    "2. on older versions of Tensorflow, it might accept it without throwing an \n",
    "error, but it will not work the way you want it to. It will always return \n",
    "the exact same value (777), irrespective of whether `is_training` is True \n",
    "or False. This is partly because the value for `is_training` is not evaluated \n",
    "when the `if` statement is run. All it sees is that `is_training` points to \n",
    "a tensor object, and the fact that it is pointing to something makes the `if` \n",
    "statement evaluate to `True`. You can test this by running the following block of code. "
   ]
  },
  {
   "cell_type": "code",
   "execution_count": null,
   "metadata": {
    "collapsed": true
   },
   "outputs": [],
   "source": [
    "# ------------------------------------------------\n",
    "#              Create a session, and run the graph\n",
    "# ------------------------------------------------\n",
    "with tf.Session(graph=graph) as session:\n",
    "    cout = session.run(c, feed_dict={is_training: True})\n",
    "    print(\"Value when True: \", cout)\n",
    "    cout = session.run(c, feed_dict={is_training: False})\n",
    "    print(\"Value when False: \", cout)"
   ]
  },
  {
   "cell_type": "markdown",
   "metadata": {},
   "source": [
    "### The Proper Way\n",
    "\n",
    "In order to get conditionals to work properly in tensorflow we need to make use of the `tf.cond()` function. This function takes three arguments: \n",
    "\n",
    "- `pred`: The condition. Note that it must not evaluate to a python boolean. It must evaluate to a tensorflow tensor (eg, a tensor containing a boolean value).\n",
    "\n",
    "- `fn1`: A callable function to run if the condition is True. \n",
    "\n",
    "- `fn2`: A callable function to run if the condition is True. \n",
    "\n",
    "\n",
    "Note that the second and third arguments require a callable function. If \n",
    "we want to make use of a fixed value, then we can get around that by \n",
    "using the `lambda` operator, as in the following chunk of code. "
   ]
  },
  {
   "cell_type": "code",
   "execution_count": 3,
   "metadata": {
    "collapsed": true
   },
   "outputs": [],
   "source": [
    "# ------------------------------------------------\n",
    "#                                    Build a graph\n",
    "# ------------------------------------------------\n",
    "graph = tf.Graph()\n",
    "with graph.as_default():\n",
    "    is_training = tf.placeholder(dtype=tf.bool, shape=None)\n",
    "    c = input_dropout = tf.cond(is_training, \n",
    "                                lambda: tf.constant(777), \n",
    "                                lambda: tf.constant(222))    "
   ]
  },
  {
   "cell_type": "markdown",
   "metadata": {},
   "source": [
    "If we now run a session, feeding both True and False values to the `is_training` \n",
    "placeholder, we see that it now works the way we would expect. "
   ]
  },
  {
   "cell_type": "code",
   "execution_count": 4,
   "metadata": {
    "collapsed": false
   },
   "outputs": [
    {
     "name": "stdout",
     "output_type": "stream",
     "text": [
      "Value when True:  777\n",
      "Value when False:  222\n"
     ]
    }
   ],
   "source": [
    "# ------------------------------------------------\n",
    "#              Create a session, and run the graph\n",
    "# ------------------------------------------------\n",
    "with tf.Session(graph=graph) as session:\n",
    "    cout = session.run(c, feed_dict={is_training: True})\n",
    "    print(\"Value when True: \", cout)\n",
    "    cout = session.run(c, feed_dict={is_training: False})\n",
    "    print(\"Value when False: \", cout)"
   ]
  },
  {
   "cell_type": "markdown",
   "metadata": {},
   "source": [
    "## Conditionally Run a Portion of the Graph\n",
    "Sometimes we may want to run some portion of the graph under some condition, \n",
    "but a different portion of the graph under a different condition. \n",
    "\n",
    "In the following chunk of code, we run separate branches of the graph depending \n",
    "on the value for `condition`. \n",
    "\n",
    "**TODO: Create a diagram of the graph**"
   ]
  },
  {
   "cell_type": "code",
   "execution_count": 13,
   "metadata": {
    "collapsed": false
   },
   "outputs": [],
   "source": [
    "# ------------------------------------------------\n",
    "#                                    Build a graph\n",
    "# ------------------------------------------------\n",
    "graph = tf.Graph()\n",
    "with graph.as_default():\n",
    "    condition = tf.placeholder(dtype=tf.bool, shape=None)\n",
    "    a = tf.constant(10.0, shape=None)\n",
    "    \n",
    "    # branch 1\n",
    "    branch1 = a*2\n",
    "    branch1 = branch1 + 2\n",
    "    \n",
    "    # branch 2\n",
    "    branch2 = a/2.0\n",
    "    branch2 = branch2 - 2\n",
    "    \n",
    "    c = input_dropout = tf.cond(condition, \n",
    "                                lambda: branch1, \n",
    "                                lambda: branch2)    "
   ]
  },
  {
   "cell_type": "code",
   "execution_count": 14,
   "metadata": {
    "collapsed": false
   },
   "outputs": [
    {
     "name": "stdout",
     "output_type": "stream",
     "text": [
      "Value when True:  22.0\n",
      "Value when False:  3.0\n"
     ]
    }
   ],
   "source": [
    "# ------------------------------------------------\n",
    "#              Create a session, and run the graph\n",
    "# ------------------------------------------------\n",
    "with tf.Session(graph=graph) as session:\n",
    "    cout = session.run(c, feed_dict={condition: True})\n",
    "    print(\"Value when True: \", cout)\n",
    "    cout = session.run(c, feed_dict={condition: False})\n",
    "    print(\"Value when False: \", cout)"
   ]
  },
  {
   "cell_type": "markdown",
   "metadata": {},
   "source": [
    "<hr>"
   ]
  },
  {
   "cell_type": "code",
   "execution_count": 1,
   "metadata": {
    "collapsed": false
   },
   "outputs": [
    {
     "data": {
      "text/html": [
       "<link rel=\"stylesheet\" href=\"./custom.css\" type=\"text/css\" />"
      ],
      "text/plain": [
       "<IPython.core.display.HTML object>"
      ]
     },
     "execution_count": 1,
     "metadata": {},
     "output_type": "execute_result"
    }
   ],
   "source": [
    "# IGNORE THIS CODE: Irrelevant to the tutorial \n",
    "# For Prettyfying the notebook fonts and styles when run locally\n",
    "from IPython.core.display import HTML\n",
    "HTML(\"\"\"<link rel=\"stylesheet\" href=\"./custom.css\" type=\"text/css\" />\"\"\")"
   ]
  }
 ],
 "metadata": {
  "kernelspec": {
   "display_name": "Python 2",
   "language": "python",
   "name": "python2"
  },
  "language_info": {
   "codemirror_mode": {
    "name": "ipython",
    "version": 2
   },
   "file_extension": ".py",
   "mimetype": "text/x-python",
   "name": "python",
   "nbconvert_exporter": "python",
   "pygments_lexer": "ipython2",
   "version": "2.7.6"
  },
  "nav_menu": {},
  "toc": {
   "navigate_menu": true,
   "number_sections": false,
   "sideBar": true,
   "threshold": 6,
   "toc_cell": false,
   "toc_section_display": "block",
   "toc_window_display": true
  }
 },
 "nbformat": 4,
 "nbformat_minor": 1
}
