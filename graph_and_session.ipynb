{
 "cells": [
  {
   "cell_type": "markdown",
   "metadata": {},
   "source": [
    "# Tensorflow Basics\n",
    "*By Ronny Restrepo*\n",
    "\n",
    "# Graph and Session \n",
    "\n",
    "\n",
    "For this tutorial I am assuming that you are already have some familiarity with artificial neural networks, matrices, vectors and feel comfortable with Python, and numpy. I am also assuming that you have installed Tensorflow. If not then please head over to the [official tensorflow installation guide](/home/ronny/programming/machine_learning/tests/spatial_transformers/final_digit_pos_scale_testB) and follow the instructions for your operating system. \n",
    "\n",
    "\n",
    "## Template\n",
    "\n",
    "All the examples in this tutorial will build off of the template in the following cell. Run this code to have the relevant libraries loaded up. "
   ]
  },
  {
   "cell_type": "code",
   "execution_count": 2,
   "metadata": {
    "collapsed": true
   },
   "outputs": [],
   "source": [
    "# ================================================\n",
    "#                              TENSORFLOW TEMPLATE\n",
    "# ================================================\n",
    "from __future__ import print_function, division\n",
    "import tensorflow as tf\n",
    "import numpy as np\n",
    "\n",
    "# ------------------------------------------------\n",
    "#                                    Build a graph\n",
    "# ------------------------------------------------\n",
    "graph = tf.Graph()\n",
    "with graph.as_default():\n",
    "    pass # REPLACE WITH YOUR CODE TO BUILD A GRAPH\n",
    "\n",
    "# ------------------------------------------------\n",
    "#              Create a session, and run the graph\n",
    "# ------------------------------------------------\n",
    "with tf.Session(graph=graph) as session:\n",
    "    pass # REPLACE WITH YOUR CODE TO RUN A SESSION"
   ]
  },
  {
   "cell_type": "markdown",
   "metadata": {},
   "source": [
    "You will notice that there are two main sections of code involved. One for \n",
    "building a graph and one for running a session. Before continuing with any \n",
    "code, it is important to understand what is meant by these two things. \n",
    "\n",
    "## Graph \n",
    "A graph is a set of operations that are connected together in some way. For \n",
    "example, the diagram below, shows the graph representation of this formula: \n",
    "\n",
    "$$y=\\frac{(A + B)}{3} \\times \\frac{C}{2}$$\n",
    "\n",
    "We see the inputs **A**, **B** and **C**. Their values travel along the green \n",
    "lines (called the *edges of the graph*). And on the blue nodes, we apply some \n",
    "operation to those values coming in. "
   ]
  },
  {
   "cell_type": "markdown",
   "metadata": {},
   "source": [
    "![image of graph](TUTimages/tf_graph_and_session/graph_diagram1.png)"
   ]
  },
  {
   "cell_type": "markdown",
   "metadata": {},
   "source": [
    "The values that travel along the edges of the graph are *tensors* (hence the name *Tensorflow*). Tensors can be thought of as a generalization of scalar values, vectors and matrices, such that: \n",
    "\n",
    "- **0 Dimensional Tensor : ** is equivalent to a scalar value (eg a float or an integer)\n",
    "\n",
    "- **1 Dimensional Tensor : ** is equivalent to a vector, eg $$\\begin{bmatrix}\n",
    "    1.2 \\\\ \n",
    "    3.4 \\\\ \n",
    "    5.6\n",
    "    \\end{bmatrix}$$\n",
    "    \n",
    "- **2 Dimensional Tensor : ** is equivalent to a matrix, eg: \n",
    "$$\n",
    "\\begin{bmatrix}\n",
    "1.2 &  2.2&  3.3 & 4.4\\\\ \n",
    "3.4 &  4.2&  6.7 & 3.3\\\\ \n",
    "5.6 &  5.3&  5.6 & 4.4\n",
    "\\end{bmatrix}\n",
    "$$\n",
    "\n",
    "- **N Dimensional Tensor : ** is extends the concept of a matrix to N dimensions.  \n",
    "\n",
    "\n",
    "In the context of Neural Networks, the graph can be thought of as the architecture of our neural network. The inputs will be things like our training data and labels. The operations will be things like matrix dot products, non-linearity functions, loss functions, etc.\n",
    "\n",
    "Specifying the graph that is shown in the diagram above can be done as follows. Run the code in the following cell to create the graph. "
   ]
  },
  {
   "cell_type": "code",
   "execution_count": 3,
   "metadata": {
    "collapsed": false
   },
   "outputs": [],
   "source": [
    "# ------------------------------------------------\n",
    "#                                    Build a graph\n",
    "# ------------------------------------------------\n",
    "graph = tf.Graph()\n",
    "with graph.as_default():\n",
    "    A = tf.constant(3.0)           # Create a constant value\n",
    "    B = tf.constant(9.0)\n",
    "    C = tf.constant(4.0)\n",
    "    \n",
    "    summed = tf.add(A, B)          # Adition Operation \n",
    "    div3 = tf.div(summed, 3.0)     # Division Operation\n",
    "    \n",
    "    div2 = tf.div(C, 2.0)          # Division Operation\n",
    "    \n",
    "    mult = tf.mul(div3, div2) # Multiplication operation"
   ]
  },
  {
   "cell_type": "markdown",
   "metadata": {},
   "source": [
    "Now, lets try get the value of the `mult` operation in the graph by running the following code."
   ]
  },
  {
   "cell_type": "code",
   "execution_count": null,
   "metadata": {
    "collapsed": false
   },
   "outputs": [],
   "source": [
    "print(mult)"
   ]
  },
  {
   "cell_type": "markdown",
   "metadata": {},
   "source": [
    "You might have expected it to output a value such as `8.0`, which would be the \n",
    "value of running the operations specified, but instead you get a Tensor object.\n",
    "\n",
    "The reason is that when you specify a tensorflow graph, tensorflow does not \n",
    "actually run the operations, it simply creates a specification for how data \n",
    "should flow. In order to actually make the data flow through the graph, we need \n",
    "to initialize and run a session. This will be explained in the following section. "
   ]
  },
  {
   "cell_type": "markdown",
   "metadata": {},
   "source": [
    "## Session\n",
    "In order to actually run data through a Tensorflow graph we need to initialize \n",
    "a session and specify what portion of the graph we want to run. In order to initialize a session we run the `tf.Session()` function, passing as an argument the graph that we wish to use. Once the session is initialized, we tell it what portion of the graph to run by calling the `run()` method. \n",
    "\n",
    "In the following cell of code, we initialize a session and name it `sess`. We then call `sess.run()` to run the operations in the graph. \n",
    "\n",
    "Run the following code to see the results. "
   ]
  },
  {
   "cell_type": "code",
   "execution_count": 17,
   "metadata": {
    "collapsed": false
   },
   "outputs": [
    {
     "name": "stdout",
     "output_type": "stream",
     "text": [
      "8.0\n"
     ]
    }
   ],
   "source": [
    "# ------------------------------------------------\n",
    "#              Create a session, and run the graph\n",
    "# ------------------------------------------------\n",
    "with tf.Session(graph=graph) as sess:\n",
    "    mult_output = sess.run(mult)\n",
    "    print(mult_node_output)"
   ]
  },
  {
   "cell_type": "markdown",
   "metadata": {},
   "source": [
    "When calling `sess.run()` we pass to it the operation that we are interested in running from the graph. Tensorflow automatically runs any other operations which your desired operation depends on. \n",
    "\n",
    "So for instance, if you specified that you want to run the `div3` operation (as in the following cell of code), then it will automatically also run the `summed` operation, but it will not compute the `div2` or `mult` operations. "
   ]
  },
  {
   "cell_type": "code",
   "execution_count": 12,
   "metadata": {
    "collapsed": false
   },
   "outputs": [
    {
     "name": "stdout",
     "output_type": "stream",
     "text": [
      "12.0\n"
     ]
    }
   ],
   "source": [
    "# ------------------------------------------------\n",
    "#              Create a session, and run the graph\n",
    "# ------------------------------------------------\n",
    "with tf.Session(graph=graph) as sess:\n",
    "    summed_output = sess.run(summed)\n",
    "    print(summed_output)"
   ]
  },
  {
   "cell_type": "markdown",
   "metadata": {},
   "source": [
    "![image of graph](TUTimages/tf_graph_and_session/graph_diagram_div3.png)"
   ]
  },
  {
   "cell_type": "markdown",
   "metadata": {},
   "source": [
    "### Returned Values from sess.run()\n",
    "\n",
    "The first argument that we pass on to `sess.run()` is an operation that we want to run in the graph. The value that this operation evaluates to is returned by `sess.run()` as a numpy object. If the operation evaluates to a scalar value, then `sess.run()` will return a numpy scalar object like a numpy float. \n",
    "\n",
    "Run the following code to see the data type of the value that was returned when the `mult` operation was evaluated. "
   ]
  },
  {
   "cell_type": "code",
   "execution_count": 21,
   "metadata": {
    "collapsed": false
   },
   "outputs": [
    {
     "data": {
      "text/plain": [
       "numpy.float32"
      ]
     },
     "execution_count": 21,
     "metadata": {},
     "output_type": "execute_result"
    }
   ],
   "source": [
    "type(mult_output)"
   ]
  },
  {
   "cell_type": "markdown",
   "metadata": {},
   "source": [
    "If the operation in the graph evaluates to a 1D, 2D, or ND tensor, then `sess.run()` will return a numpy array object. "
   ]
  },
  {
   "cell_type": "markdown",
   "metadata": {},
   "source": [
    "### Evaluating/Returning Multiple Operations\n",
    "If you wish to either evaluate several operations in the graph that are not dependedent on each other, or simply wish to find out the value passing through several parts of the graph, you can pass a list of operations as the first argument to `sess.run()`. \n",
    "\n",
    "For example, if you run the following code, you will evaluate the `summed`, `div3` and `div2` operations, and return their evaluated values. "
   ]
  },
  {
   "cell_type": "code",
   "execution_count": 4,
   "metadata": {
    "collapsed": false
   },
   "outputs": [
    {
     "name": "stdout",
     "output_type": "stream",
     "text": [
      "12.0\n",
      "4.0\n",
      "2.0\n"
     ]
    }
   ],
   "source": [
    "# ------------------------------------------------\n",
    "#              Create a session, and run the graph\n",
    "# ------------------------------------------------\n",
    "with tf.Session(graph=graph) as sess:\n",
    "    summed_output, div3_output, div2_output = sess.run([summed, div3, div2])\n",
    "    print(summed_output)\n",
    "    print(div3_output)\n",
    "    print(div2_output)"
   ]
  },
  {
   "cell_type": "markdown",
   "metadata": {},
   "source": [
    "![image of graph being run to certain ops](TUTimages/tf_graph_and_session/graph_diagram_multi_ops.png)"
   ]
  },
  {
   "cell_type": "markdown",
   "metadata": {},
   "source": [
    "### Precaution \n",
    "**WARNING!: ** be very carefull not override the values of the python variables that refer to tensor operations that you wish to evaluate in the graph. Notice that we stored the returned value of the `mult` operation in a variable called `mult_output`, and not `mult`. Run the following few cells of code to see what happens when you over-ride the variable name. "
   ]
  },
  {
   "cell_type": "code",
   "execution_count": 23,
   "metadata": {
    "collapsed": false
   },
   "outputs": [
    {
     "data": {
      "text/plain": [
       "tensorflow.python.framework.ops.Tensor"
      ]
     },
     "execution_count": 23,
     "metadata": {},
     "output_type": "execute_result"
    }
   ],
   "source": [
    "# Object type of `mult` prior to over-riding\n",
    "type(mult)"
   ]
  },
  {
   "cell_type": "code",
   "execution_count": null,
   "metadata": {
    "collapsed": false
   },
   "outputs": [],
   "source": [
    "# ------------------------------------------------------------------\n",
    "# Assign output of sess.run() to same variable name as the tensor op\n",
    "# ------------------------------------------------------------------\n",
    "with tf.Session(graph=graph) as sess:\n",
    "    mult = sess.run(mult)    # overriding `mult`\n",
    "    print(mult_node_output)"
   ]
  },
  {
   "cell_type": "code",
   "execution_count": null,
   "metadata": {
    "collapsed": false
   },
   "outputs": [],
   "source": [
    "type(mult)"
   ]
  },
  {
   "cell_type": "markdown",
   "metadata": {},
   "source": [
    "So far it seems ok... but notice that the data type of `mult` has changed. Now try running the session again, using the same arguments. "
   ]
  },
  {
   "cell_type": "code",
   "execution_count": null,
   "metadata": {
    "collapsed": false
   },
   "outputs": [],
   "source": [
    "# ------------------------------------------------\n",
    "#   Running session again after variable over-ride\n",
    "# ------------------------------------------------\n",
    "with tf.Session(graph=graph) as sess:\n",
    "    mult = sess.run(mult)   # trying to call the `mult` operation\n",
    "    print(mult_node_output)"
   ]
  },
  {
   "cell_type": "markdown",
   "metadata": {},
   "source": [
    "You will get a `TypeError` because you are feeding to `sess.run()` an object `mult_node` that is now a numpy object and not a tensor operation object. "
   ]
  },
  {
   "cell_type": "markdown",
   "metadata": {},
   "source": [
    "## EXTRA:  Why Tensorflow splits the process into graph and Session\n",
    "Python is a wonderful programming language. It is simple and fun to use. However, it is not very fast. Performing math operations on large matrices can be time consuming. \n",
    "\n",
    "Many Python libraries for scientific computing have been designed to overcome this issue by being written in some other programming language like C or C++. By performing the calculation in a faster programming language, they speed things up. \n",
    "\n",
    "You interact with those libraries using using python functions as you normally would. But under the hood, it takes the data and performs the operation outside of python, then returns the data back into Python. \n",
    "\n",
    "This greatly speeds things up. However, there is still some overhead involved in transfering the data in and out of Python. The overhead involved in transfering data is even more pronounced when we are making calculations on a distributed system that spread the computations across multiple computers.\n",
    "\n",
    "Instead of transfering data in and out of Python after every single operation, Tensorflow will run a series of operations outside of Python. Only after all those operations have been performed will it return back to Python. \n",
    "\n",
    "This is the point of creating a graph. A graph is a way to specify the series of steps that will need to be calculated. Opening a session creates a connection to the system that will actually perform the calculations. And running a portion of the graph specifies how much of the operations will need to be calculated outside of Python before it returns again. "
   ]
  },
  {
   "cell_type": "code",
   "execution_count": 2,
   "metadata": {
    "collapsed": false,
    "scrolled": true
   },
   "outputs": [
    {
     "data": {
      "text/html": [
       "<link rel=\"stylesheet\" href=\"./custom.css\" type=\"text/css\" />"
      ],
      "text/plain": [
       "<IPython.core.display.HTML object>"
      ]
     },
     "execution_count": 2,
     "metadata": {},
     "output_type": "execute_result"
    }
   ],
   "source": [
    "# IGNORE THIS CODE: Irrelevant to the tutorial \n",
    "# For Prettyfying the notebook fonts and styles when run locally\n",
    "from IPython.core.display import HTML\n",
    "HTML(\"\"\"<link rel=\"stylesheet\" href=\"./custom.css\" type=\"text/css\" />\"\"\")"
   ]
  }
 ],
 "metadata": {
  "kernelspec": {
   "display_name": "Python 2",
   "language": "python",
   "name": "python2"
  },
  "language_info": {
   "codemirror_mode": {
    "name": "ipython",
    "version": 2
   },
   "file_extension": ".py",
   "mimetype": "text/x-python",
   "name": "python",
   "nbconvert_exporter": "python",
   "pygments_lexer": "ipython2",
   "version": "2.7.6"
  },
  "nav_menu": {},
  "toc": {
   "navigate_menu": true,
   "number_sections": false,
   "sideBar": true,
   "threshold": 6,
   "toc_cell": false,
   "toc_section_display": "none",
   "toc_window_display": true
  },
  "toc_position": {
   "height": "506px",
   "left": "0px",
   "right": "1154px",
   "top": "107px",
   "width": "212px"
  }
 },
 "nbformat": 4,
 "nbformat_minor": 0
}
