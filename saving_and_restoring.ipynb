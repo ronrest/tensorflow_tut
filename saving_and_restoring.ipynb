{
 "cells": [
  {
   "cell_type": "markdown",
   "metadata": {},
   "source": [
    "# Tensorflow Basics\n",
    "*By Ronny Restrepo*\n",
    "\n",
    "# Save and Restore Variables\n",
    "This tutorial will go through how to save and restore the variables in a tensorflow graph. \n",
    "\n",
    "## Setting up\n",
    "\n",
    "Lets start by setting up the environment."
   ]
  },
  {
   "cell_type": "code",
   "execution_count": 1,
   "metadata": {
    "collapsed": true
   },
   "outputs": [],
   "source": [
    "# ================================================\n",
    "#                                          IMPORTS\n",
    "# ================================================\n",
    "from __future__ import print_function\n",
    "import tensorflow as tf\n",
    "import os"
   ]
  },
  {
   "cell_type": "markdown",
   "metadata": {},
   "source": [
    "We can now create a simple graph containing some variables that get updated.\n",
    "Operation `c` updates the value of the `w1` variable by performing an \n",
    "elementwise adition between `w1` and `w2`."
   ]
  },
  {
   "cell_type": "code",
   "execution_count": 2,
   "metadata": {
    "collapsed": true
   },
   "outputs": [],
   "source": [
    "# ================================================\n",
    "#                                   CREATE A GRAPH\n",
    "# ================================================\n",
    "graph = tf.Graph()\n",
    "with graph.as_default():\n",
    "    w1 = tf.Variable(tf.constant(1, shape=[2, 3]), name=\"weights_1\")\n",
    "    w2 = tf.Variable(tf.constant(1, shape=[2, 3]), name=\"weights_2\")\n",
    "    c = w1.assign(w1 + w2) # update the value of w1"
   ]
  },
  {
   "cell_type": "markdown",
   "metadata": {},
   "source": [
    "## Checkpoint File\n",
    "\n",
    "Tensorflow has built in functions that allow you to save and restore the values \n",
    "of variables into files called `checkpoint` files. When creating a checkpoint \n",
    "files, it actually creates several accompanying files along with it. It is \n",
    "therefore a good idea to place the checkpoint file in a dedicated subdirectory, \n",
    "to keep all the related files nicely organised. \n",
    "\n",
    "So lets start by creating a subdirectory called `\"checkpoints\"`, and \n",
    "specifying the name of the checkpoint file to be `\"checkpoint.chk\"`. "
   ]
  },
  {
   "cell_type": "code",
   "execution_count": 3,
   "metadata": {
    "collapsed": false
   },
   "outputs": [],
   "source": [
    "# ================================================\n",
    "#                                 SETUP FILE PATHS\n",
    "# ================================================\n",
    "# Specify the name of the checkpoints directory  \n",
    "checkpoint_dir = \"checkpoints\"\n",
    "\n",
    "# Create the directory if it does not already exist\n",
    "if not os.path.exists(checkpoint_dir):\n",
    "    os.makedirs(checkpoint_dir)\n",
    "\n",
    "# Specify the path to the checkpoint file\n",
    "checkpoint_file = os.path.join(checkpoint_dir, \"checkpoint.chk\")"
   ]
  },
  {
   "cell_type": "markdown",
   "metadata": {},
   "source": [
    "## Saving, Restoring, and Initializing Variables\n",
    "\n",
    "The code below defines a function that will run a session that does the following:\n",
    "\n",
    "- The first time it is run, it initializes the variables from scratch. \n",
    "- Runs the graph to the point where the variable `w1` gets updated.\n",
    "- It saves the variable values to a checkpoint file. \n",
    "- Given that the checkpoint file is created, any subsequent calls to this \n",
    "  function will run a session which loads the variable values from file before \n",
    "  performing operations on them. \n",
    "  \n",
    "Dont worry if any of the sections of this code to not make much sense, they \n",
    "will be explained in the following few sections. "
   ]
  },
  {
   "cell_type": "code",
   "execution_count": 4,
   "metadata": {
    "collapsed": false
   },
   "outputs": [],
   "source": [
    "# ================================================\n",
    "#                                 DEFINE A SESSION\n",
    "# ================================================\n",
    "def run_session(graph):\n",
    "    with tf.Session(graph=graph) as session:\n",
    "        # Create a Saver Object\n",
    "        saver = tf.train.Saver(name=\"saver\")\n",
    "\n",
    "        # Initialize Variables\n",
    "        if tf.train.checkpoint_exists(checkpoint_file):\n",
    "            print(\"Restoring from file: \", checkpoint_file)\n",
    "            saver.restore(session, checkpoint_file)\n",
    "        else:\n",
    "            print(\"Initializing from scratch\")\n",
    "            session.run(tf.global_variables_initializer())\n",
    "\n",
    "        # Run graph up to the `c` operation\n",
    "        session.run(c)\n",
    "\n",
    "        # Retrieve the value of w1\n",
    "        w1_val = session.run(w1)\n",
    "        print(\"Value of w1 a after running: \\n\", w1_val)\n",
    "\n",
    "        # Save a snapshot of the current value of the variables\n",
    "        saver.save(session, checkpoint_file)"
   ]
  },
  {
   "cell_type": "markdown",
   "metadata": {},
   "source": [
    "If you run the code above, and then run the following block of code that calls \n",
    "the function, you will see in the printout that the variables are being \n",
    "initialized from scratch, and the value of `w1` after running the `c` operation \n",
    "is the elementwise addition of two tensors whose values are `1`, giving a matrix \n",
    "full of `2`. "
   ]
  },
  {
   "cell_type": "code",
   "execution_count": 5,
   "metadata": {
    "collapsed": false,
    "scrolled": true
   },
   "outputs": [
    {
     "name": "stdout",
     "output_type": "stream",
     "text": [
      "Initializing from scratch\n",
      "Value of w1 a after running: \n",
      " [[2 2 2]\n",
      " [2 2 2]]\n"
     ]
    }
   ],
   "source": [
    "# Run Session for First Time\n",
    "run_session(graph=graph)"
   ]
  },
  {
   "cell_type": "markdown",
   "metadata": {},
   "source": [
    "If we call the function again, you will see from the printout that this time \n",
    "the variables are being initialized from the checkpoint file. This means the \n",
    "tensor `w1` will take on the updated values from last time, and will be updated \n",
    "once again in operation `c`, giving up a tensor of all `3`. "
   ]
  },
  {
   "cell_type": "code",
   "execution_count": 6,
   "metadata": {
    "collapsed": false,
    "scrolled": true
   },
   "outputs": [
    {
     "name": "stdout",
     "output_type": "stream",
     "text": [
      "Restoring from file:  checkpoints/checkpoint.chk\n",
      "Value of w1 a after running: \n",
      " [[3 3 3]\n",
      " [3 3 3]]\n"
     ]
    }
   ],
   "source": [
    "# Run Session for Second Time\n",
    "run_session(graph=graph)"
   ]
  },
  {
   "cell_type": "markdown",
   "metadata": {},
   "source": [
    "## Each Component in Detail\n",
    "\n",
    "Each of the components within the `run_session()` function that was defined \n",
    "above will be explained in the subsections below. \n",
    "\n",
    "### Saver Object\n",
    "\n",
    "Tensorflow has an object called a `saver`. This object has methods that allow \n",
    "you to save and restore variables. This is created using: \n",
    "\n",
    "```python\n",
    "saver = tf.train.Saver(name=\"saver\")\n",
    "```\n",
    "\n",
    "### Saving Variables to File\n",
    "In order to save the variables of a graph to a checkpoint file you can use: \n",
    "\n",
    "```python\n",
    "saver.save(session, \"path/to/checkpoint_file.chk\")\n",
    "```\n",
    "\n",
    "**TODO: ** Add details on how to selectively save variables. \n",
    "\n",
    "### Load Previously Saved Variables from File\n",
    "In order to load previously saved variables from a checkpoint file, \n",
    "you can use the restore method: \n",
    "\n",
    "```python\n",
    "saver.restore(session, \"path/to/checkpoint_file.chk\")\n",
    "```\n",
    "\n",
    "The first time that you run a session, there will not be a any previously \n",
    "saved  variables to restore from file. As such you will need to initialize \n",
    "the variables from scratch using something like: \n",
    "\n",
    "```python\n",
    "session.run(tf.global_variables_initializer())\n",
    "```\n",
    "\n",
    "You can check if there is a previously saved checkpoint file by making use of the `tf.train.checkpoint_exists()` function as follows: \n",
    "\n",
    "```python\n",
    "if tf.train.checkpoint_exists(\"path/to/checkpoint_file.chk\"):\n",
    "    # Initialize from file\n",
    "    saver.restore(session, \"path/to/checkpoint_file.chk\")\n",
    "else:\n",
    "    # Initialize from scratch\n",
    "    session.run(tf.global_variables_initializer())\n",
    "```\n",
    "\n",
    "You should use the above method, and not the `os.path.exists()` function like the following: \n",
    "\n",
    "\n",
    "```python\n",
    "# DO NOT DO USE THIS\n",
    "if os.path.exists(\"path/to/checkpoint_file.chk\"):\n",
    "    # Initialize from file\n",
    "    saver.restore(session, \"path/to/checkpoint_file.chk\")\n",
    "else:\n",
    "    # Initialize from scratch\n",
    "    session.run(tf.global_variables_initializer())\n",
    "```\n",
    "\n",
    "Since version 0.12 of Tensorflow, checkpoint files might have suffix names such as \n",
    "`\".data-00000-of-00001\"` added to the filename. So you might specify that the \n",
    "checkpoint file be called `\"checkpoint.chk\"`, but it might actually get saved as \n",
    "`\"checkpoint.chk.data-00000-of-00001\"`. The tensorflow function \n",
    "`tf.train.checkpoint_exists()` will ignore these suffixes, and return `True` \n",
    "when the checkpoint file exists. If you were to make use of python's `os` \n",
    "library to do it, you would need to go through the extra hassle of accounting \n",
    "for aditional suffixes that might be added to the filename. \n",
    "\n",
    "\n",
    "**TODO: ** Add details on how to selectively load variables. \n"
   ]
  },
  {
   "cell_type": "markdown",
   "metadata": {},
   "source": [
    "## Compatability\n",
    "This tutorial was written for use with tensorflow 0.12 (and possibly above). It will not work on \n",
    "older versions of Tensorflow, but you can get it to work by replacing occurences \n",
    "of:\n",
    "\n",
    "```python\n",
    "session.run(tf.global_variables_initializer())\n",
    "```\n",
    "\n",
    "with \n",
    "\n",
    "```python\n",
    "session.run(tf.initialize_all_variables())\n",
    "```"
   ]
  },
  {
   "cell_type": "markdown",
   "metadata": {},
   "source": [
    "<hr>"
   ]
  },
  {
   "cell_type": "code",
   "execution_count": 7,
   "metadata": {
    "collapsed": false
   },
   "outputs": [
    {
     "data": {
      "text/html": [
       "<link rel=\"stylesheet\" href=\"./custom.css\" type=\"text/css\" />"
      ],
      "text/plain": [
       "<IPython.core.display.HTML object>"
      ]
     },
     "execution_count": 7,
     "metadata": {},
     "output_type": "execute_result"
    }
   ],
   "source": [
    "# IGNORE THIS CODE: Irrelevant to the tutorial \n",
    "# For Prettyfying the notebook fonts and styles when run locally\n",
    "from IPython.core.display import HTML\n",
    "HTML(\"\"\"<link rel=\"stylesheet\" href=\"./custom.css\" type=\"text/css\" />\"\"\")"
   ]
  }
 ],
 "metadata": {
  "kernelspec": {
   "display_name": "Python 2",
   "language": "python",
   "name": "python2"
  },
  "language_info": {
   "codemirror_mode": {
    "name": "ipython",
    "version": 2
   },
   "file_extension": ".py",
   "mimetype": "text/x-python",
   "name": "python",
   "nbconvert_exporter": "python",
   "pygments_lexer": "ipython2",
   "version": "2.7.6"
  },
  "nav_menu": {},
  "toc": {
   "navigate_menu": true,
   "number_sections": false,
   "sideBar": true,
   "threshold": 6,
   "toc_cell": false,
   "toc_section_display": "block",
   "toc_window_display": true
  }
 },
 "nbformat": 4,
 "nbformat_minor": 1
}
