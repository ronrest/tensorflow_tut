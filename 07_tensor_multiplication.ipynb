{
 "cells": [
  {
   "cell_type": "markdown",
   "metadata": {},
   "source": [
    "# Multiplication and Dot Product"
   ]
  },
  {
   "cell_type": "code",
   "execution_count": 1,
   "metadata": {
    "collapsed": true
   },
   "outputs": [],
   "source": [
    "# ==============================================================================\n",
    "#                                                                        IMPORTS\n",
    "# ==============================================================================\n",
    "from __future__ import print_function, division\n",
    "import tensorflow as tf\n",
    "import numpy as np"
   ]
  },
  {
   "cell_type": "markdown",
   "metadata": {},
   "source": [
    "# Scalar times Tensor\n",
    "**TODO: Add description text**"
   ]
  },
  {
   "cell_type": "code",
   "execution_count": 13,
   "metadata": {
    "collapsed": false
   },
   "outputs": [
    {
     "name": "stdout",
     "output_type": "stream",
     "text": [
      "[[  2.   4.   6.]\n",
      " [ 20.  40.  60.]]\n"
     ]
    }
   ],
   "source": [
    "# ------------------------------------------------\n",
    "#                                    Build a graph\n",
    "# ------------------------------------------------\n",
    "graph = tf.Graph()\n",
    "with graph.as_default():\n",
    "    # A 2x3 matrix\n",
    "    a = tf.constant(np.array([[ 1, 2, 3],\n",
    "                              [10,20,30]]),\n",
    "                    dtype=tf.float32)\n",
    "\n",
    "    # Scalar times Matrix\n",
    "    c =  2 * a\n",
    "\n",
    "# ------------------------------------------------\n",
    "#              Create a session, and run the graph\n",
    "# ------------------------------------------------\n",
    "with tf.Session(graph=graph) as session:\n",
    "    output = session.run(c)\n",
    "    print(output)"
   ]
  },
  {
   "cell_type": "markdown",
   "metadata": {},
   "source": [
    "# Elementwise Multiplication\n",
    "\n",
    "```python\n",
    "a*b\n",
    "``` \n",
    "\n",
    "Performs elementwise multiplication between two tensors of the same size"
   ]
  },
  {
   "cell_type": "code",
   "execution_count": 5,
   "metadata": {
    "collapsed": false
   },
   "outputs": [
    {
     "name": "stdout",
     "output_type": "stream",
     "text": [
      "[[  2.   4.   6.]\n",
      " [ 30.  60.  90.]]\n"
     ]
    }
   ],
   "source": [
    "# ------------------------------------------------\n",
    "#                                    Build a graph\n",
    "# ------------------------------------------------\n",
    "graph = tf.Graph()\n",
    "with graph.as_default():\n",
    "    # A 2x3 matrix\n",
    "    a = tf.constant(np.array([[ 1, 2, 3],\n",
    "                              [10,20,30]]),\n",
    "                    dtype=tf.float32)\n",
    "    # A 3x2 matrix\n",
    "    b = tf.constant(np.array([[2, 2, 2],\n",
    "                              [3, 3, 3]]),\n",
    "                    dtype=tf.float32)\n",
    "\n",
    "    # Elementwise multiplication\n",
    "    c =  a * b\n",
    "\n",
    "# ------------------------------------------------\n",
    "#              Create a session, and run the graph\n",
    "# ------------------------------------------------\n",
    "with tf.Session(graph=graph) as session:\n",
    "    output = session.run(c)\n",
    "    print(output)"
   ]
  },
  {
   "cell_type": "markdown",
   "metadata": {},
   "source": [
    "# Dot Product\n",
    "```\n",
    "tf.matmul(a, b)\n",
    "```\n",
    "\n",
    "can be used to perform the deot product $a \\cdot b$"
   ]
  },
  {
   "cell_type": "code",
   "execution_count": 12,
   "metadata": {
    "collapsed": false,
    "scrolled": true
   },
   "outputs": [
    {
     "name": "stdout",
     "output_type": "stream",
     "text": [
      "[[  14.  140.]\n",
      " [  28.  280.]]\n"
     ]
    }
   ],
   "source": [
    "# ------------------------------------------------\n",
    "#                                    Build a graph\n",
    "# ------------------------------------------------\n",
    "graph = tf.Graph()\n",
    "with graph.as_default():\n",
    "    # A 2x3 matrix\n",
    "    a = tf.constant(np.array([[1, 2, 3],\n",
    "                              [2, 4, 6]]),\n",
    "                            dtype=tf.float32)\n",
    "    # A 3x2 matrix\n",
    "    b = tf.constant(np.array([[1, 10],\n",
    "                              [2, 20],\n",
    "                              [3, 30]]),\n",
    "                    dtype=tf.float32)\n",
    "\n",
    "    # Dot Product them\n",
    "    c = tf.matmul(a, b) #a * b\n",
    "\n",
    "# ------------------------------------------------\n",
    "#              Create a session, and run the graph\n",
    "# ------------------------------------------------\n",
    "with tf.Session(graph=graph) as session:\n",
    "    output = session.run(c)\n",
    "    print(output)"
   ]
  }
 ],
 "metadata": {
  "kernelspec": {
   "display_name": "Python 2",
   "language": "python",
   "name": "python2"
  },
  "language_info": {
   "codemirror_mode": {
    "name": "ipython",
    "version": 2
   },
   "file_extension": ".py",
   "mimetype": "text/x-python",
   "name": "python",
   "nbconvert_exporter": "python",
   "pygments_lexer": "ipython2",
   "version": "2.7.6"
  },
  "nav_menu": {},
  "toc": {
   "navigate_menu": true,
   "number_sections": false,
   "sideBar": true,
   "threshold": 6,
   "toc_cell": false,
   "toc_section_display": "block",
   "toc_window_display": true
  }
 },
 "nbformat": 4,
 "nbformat_minor": 0
}
